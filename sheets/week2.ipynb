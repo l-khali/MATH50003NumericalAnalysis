{
 "cells": [
  {
   "cell_type": "markdown",
   "metadata": {},
   "source": [
    "# MATH50003 Numerical Analysis: Problem Sheet 2\n",
    "\n",
    "This week we look at other variants of finite-differences, including central differences and second-order\n",
    "finite-differences. We also investigate mathematical properties of dual numbers, extend their implementation to\n",
    "other functions. Finally, we see how dual numbers can be combined with Newton iteration for root finding.\n",
    "\n",
    "Questions marked with a ⋆ are meant to be completed without using a computer.\n",
    "\n",
    "## 1. Finite-differences\n",
    "\n",
    "**Problem 1.1⋆** Use Taylor's theorem to derive an error bound for central differences\n",
    "$$\n",
    "f'(x) ≈ {f(x + h) - f(x - h) \\over 2h}.\n",
    "$$\n",
    "Find an error bound when implemented in floating point arithmetic, assuming that\n",
    "$$\n",
    "f^{\\rm FP}(x) = f(x) + δ_x\n",
    "$$\n",
    "where $|δ_x| \\leq c ϵ_{\\rm m}$.\n",
    "\n",
    "$\\bigstar$ **Problem 1.2** Implement central differences for $f(x) = 1 + x + x^2$ and $g(x) = 1 + x/3 + x^2$. \n",
    "Plot the errors for `h = 2.0 .^ (0:-1:-60)` and `h = 10.0 .^ (0:-1:-16)`. \n",
    "Derive the error exactly for the different cases to explain the observed behaviour.\n",
    "\n",
    "\n",
    "$\\bigstar$ **Problem 1.3⋆** Use Taylor's theorem to derive an error bound on the second-order derivative approximation\n",
    "$$\n",
    "f''(x) ≈ {f(x+h) - 2f(x) + f(x-h) \\over h^2}\n",
    "$$\n",
    "Find an error bound when implemented in floating point arithmetic, assuming that\n",
    "$$\n",
    "f^{\\rm FP}(x) = f(x) + δ_x\n",
    "$$\n",
    "where $|δ_x| \\leq c ϵ_{\\rm m}$.\n",
    "\n",
    "$\\bigstar$ **Problem 1.4** Use finite-differences, central differences, and second-order finite-differences to approximate to 5-digits the first and second \n",
    "derivatives to the following functions\n",
    "at the point $x = 0.1$:\n",
    "$$\n",
    "\\exp(\\exp x \\cos x + \\sin x), \\prod_{k=1}^{1000} \\left({x \\over k}-1\\right), \\hbox{ and } f^{\\rm s}_{1000}(x)\n",
    "$$\n",
    "where $f^{\\rm s}_n(x)$ corresponds to $n$-terms of the following continued fraction:\n",
    "$$\n",
    "1 + {x-1 \\over 2 + {x-1 \\over 2 + {x-1 \\over 2 + \\ddots}}},\n",
    "$$\n",
    "e.g.:\n",
    "$$\n",
    "\\begin{align*}\n",
    "f^{\\rm s}_1(x) &= 1 + {x-1 \\over 2} \\\\\n",
    "f^{\\rm s}_2(x) &= 1 + {x-1 \\over 2 + {x -1 \\over 2}} \\\\\n",
    "f^{\\rm s}_3(x) &= 1 + {x-1 \\over 2 + {x -1 \\over 2 + {x-1 \\over 2}}}\n",
    "\\end{align*}\n",
    "$$"
   ]
  },
  {
   "cell_type": "code",
   "execution_count": 64,
   "metadata": {},
   "outputs": [
    {
     "name": "stdout",
     "output_type": "stream",
     "text": [
      "[0.0, 0.0, 0.0, 0.0, 0.0, 0.0, 0.0, 0.0, 0.0, 0.0, 0.0, 0.0, 0.0, 0.0, 0.0, 0.0, 0.0, 0.0, 0.0, 0.0, 0.0, 0.0, 0.0, 0.0, 0.0, 0.0, 0.0, 0.0, 0.0, 0.0, 0.0, 0.0, 0.0, 0.0, 0.0, 0.0, 0.0, 0.0, 0.0, 0.0, 0.0, 0.0, 0.0, 0.0, 0.0, 0.0, 0.0, 0.0, 0.0, 0.0, 0.0, 0.0, 0.0, 0.5, 1.0, 1.0, 1.0, 1.0, 1.0, 1.0, 1.0]"
     ]
    },
    {
     "data": {
      "image/svg+xml": "<?xml version=\"1.0\" encoding=\"utf-8\"?>\n<svg xmlns=\"http://www.w3.org/2000/svg\" xmlns:xlink=\"http://www.w3.org/1999/xlink\" width=\"600\" height=\"400\" viewBox=\"0 0 2400 1600\">\n<defs>\n  <clipPath id=\"clip860\">\n    <rect x=\"0\" y=\"0\" width=\"2400\" height=\"1600\"/>\n  </clipPath>\n</defs>\n<path clip-path=\"url(#clip860)\" d=\"\nM0 1600 L2400 1600 L2400 0 L0 0  Z\n  \" fill=\"#ffffff\" fill-rule=\"evenodd\" fill-opacity=\"1\"/>\n<defs>\n  <clipPath id=\"clip861\">\n    <rect x=\"480\" y=\"0\" width=\"1681\" height=\"1600\"/>\n  </clipPath>\n</defs>\n<path clip-path=\"url(#clip860)\" d=\"\nM186.274 1486.45 L2352.76 1486.45 L2352.76 47.2441 L186.274 47.2441  Z\n  \" fill=\"#ffffff\" fill-rule=\"evenodd\" fill-opacity=\"1\"/>\n<defs>\n  <clipPath id=\"clip862\">\n    <rect x=\"186\" y=\"47\" width=\"2167\" height=\"1440\"/>\n  </clipPath>\n</defs>\n<polyline clip-path=\"url(#clip862)\" style=\"stroke:#000000; stroke-linecap:butt; stroke-linejoin:round; stroke-width:2; stroke-opacity:0.1; fill:none\" points=\"\n  213.525,1486.45 213.525,47.2441 \n  \"/>\n<polyline clip-path=\"url(#clip862)\" style=\"stroke:#000000; stroke-linecap:butt; stroke-linejoin:round; stroke-width:2; stroke-opacity:0.1; fill:none\" points=\"\n  554.167,1486.45 554.167,47.2441 \n  \"/>\n<polyline clip-path=\"url(#clip862)\" style=\"stroke:#000000; stroke-linecap:butt; stroke-linejoin:round; stroke-width:2; stroke-opacity:0.1; fill:none\" points=\"\n  894.809,1486.45 894.809,47.2441 \n  \"/>\n<polyline clip-path=\"url(#clip862)\" style=\"stroke:#000000; stroke-linecap:butt; stroke-linejoin:round; stroke-width:2; stroke-opacity:0.1; fill:none\" points=\"\n  1235.45,1486.45 1235.45,47.2441 \n  \"/>\n<polyline clip-path=\"url(#clip862)\" style=\"stroke:#000000; stroke-linecap:butt; stroke-linejoin:round; stroke-width:2; stroke-opacity:0.1; fill:none\" points=\"\n  1576.09,1486.45 1576.09,47.2441 \n  \"/>\n<polyline clip-path=\"url(#clip862)\" style=\"stroke:#000000; stroke-linecap:butt; stroke-linejoin:round; stroke-width:2; stroke-opacity:0.1; fill:none\" points=\"\n  1916.73,1486.45 1916.73,47.2441 \n  \"/>\n<polyline clip-path=\"url(#clip862)\" style=\"stroke:#000000; stroke-linecap:butt; stroke-linejoin:round; stroke-width:2; stroke-opacity:0.1; fill:none\" points=\"\n  2257.38,1486.45 2257.38,47.2441 \n  \"/>\n<polyline clip-path=\"url(#clip860)\" style=\"stroke:#000000; stroke-linecap:butt; stroke-linejoin:round; stroke-width:4; stroke-opacity:1; fill:none\" points=\"\n  186.274,1486.45 2352.76,1486.45 \n  \"/>\n<polyline clip-path=\"url(#clip860)\" style=\"stroke:#000000; stroke-linecap:butt; stroke-linejoin:round; stroke-width:4; stroke-opacity:1; fill:none\" points=\"\n  213.525,1486.45 213.525,1467.55 \n  \"/>\n<polyline clip-path=\"url(#clip860)\" style=\"stroke:#000000; stroke-linecap:butt; stroke-linejoin:round; stroke-width:4; stroke-opacity:1; fill:none\" points=\"\n  554.167,1486.45 554.167,1467.55 \n  \"/>\n<polyline clip-path=\"url(#clip860)\" style=\"stroke:#000000; stroke-linecap:butt; stroke-linejoin:round; stroke-width:4; stroke-opacity:1; fill:none\" points=\"\n  894.809,1486.45 894.809,1467.55 \n  \"/>\n<polyline clip-path=\"url(#clip860)\" style=\"stroke:#000000; stroke-linecap:butt; stroke-linejoin:round; stroke-width:4; stroke-opacity:1; fill:none\" points=\"\n  1235.45,1486.45 1235.45,1467.55 \n  \"/>\n<polyline clip-path=\"url(#clip860)\" style=\"stroke:#000000; stroke-linecap:butt; stroke-linejoin:round; stroke-width:4; stroke-opacity:1; fill:none\" points=\"\n  1576.09,1486.45 1576.09,1467.55 \n  \"/>\n<polyline clip-path=\"url(#clip860)\" style=\"stroke:#000000; stroke-linecap:butt; stroke-linejoin:round; stroke-width:4; stroke-opacity:1; fill:none\" points=\"\n  1916.73,1486.45 1916.73,1467.55 \n  \"/>\n<polyline clip-path=\"url(#clip860)\" style=\"stroke:#000000; stroke-linecap:butt; stroke-linejoin:round; stroke-width:4; stroke-opacity:1; fill:none\" points=\"\n  2257.38,1486.45 2257.38,1467.55 \n  \"/>\n<path clip-path=\"url(#clip860)\" d=\"M213.525 1517.37 Q209.914 1517.37 208.086 1520.93 Q206.28 1524.47 206.28 1531.6 Q206.28 1538.71 208.086 1542.27 Q209.914 1545.82 213.525 1545.82 Q217.16 1545.82 218.965 1542.27 Q220.794 1538.71 220.794 1531.6 Q220.794 1524.47 218.965 1520.93 Q217.16 1517.37 213.525 1517.37 M213.525 1513.66 Q219.336 1513.66 222.391 1518.27 Q225.47 1522.85 225.47 1531.6 Q225.47 1540.33 222.391 1544.94 Q219.336 1549.52 213.525 1549.52 Q207.715 1549.52 204.637 1544.94 Q201.581 1540.33 201.581 1531.6 Q201.581 1522.85 204.637 1518.27 Q207.715 1513.66 213.525 1513.66 Z\" fill=\"#000000\" fill-rule=\"evenodd\" fill-opacity=\"1\" /><path clip-path=\"url(#clip860)\" d=\"M528.855 1544.91 L536.494 1544.91 L536.494 1518.55 L528.183 1520.21 L528.183 1515.95 L536.447 1514.29 L541.123 1514.29 L541.123 1544.91 L548.762 1544.91 L548.762 1548.85 L528.855 1548.85 L528.855 1544.91 Z\" fill=\"#000000\" fill-rule=\"evenodd\" fill-opacity=\"1\" /><path clip-path=\"url(#clip860)\" d=\"M568.206 1517.37 Q564.595 1517.37 562.767 1520.93 Q560.961 1524.47 560.961 1531.6 Q560.961 1538.71 562.767 1542.27 Q564.595 1545.82 568.206 1545.82 Q571.841 1545.82 573.646 1542.27 Q575.475 1538.71 575.475 1531.6 Q575.475 1524.47 573.646 1520.93 Q571.841 1517.37 568.206 1517.37 M568.206 1513.66 Q574.017 1513.66 577.072 1518.27 Q580.151 1522.85 580.151 1531.6 Q580.151 1540.33 577.072 1544.94 Q574.017 1549.52 568.206 1549.52 Q562.396 1549.52 559.318 1544.94 Q556.262 1540.33 556.262 1531.6 Q556.262 1522.85 559.318 1518.27 Q562.396 1513.66 568.206 1513.66 Z\" fill=\"#000000\" fill-rule=\"evenodd\" fill-opacity=\"1\" /><path clip-path=\"url(#clip860)\" d=\"M873.582 1544.91 L889.902 1544.91 L889.902 1548.85 L867.957 1548.85 L867.957 1544.91 Q870.619 1542.16 875.203 1537.53 Q879.809 1532.88 880.99 1531.53 Q883.235 1529.01 884.115 1527.27 Q885.017 1525.51 885.017 1523.82 Q885.017 1521.07 883.073 1519.33 Q881.152 1517.6 878.05 1517.6 Q875.851 1517.6 873.397 1518.36 Q870.966 1519.13 868.189 1520.68 L868.189 1515.95 Q871.013 1514.82 873.466 1514.24 Q875.92 1513.66 877.957 1513.66 Q883.328 1513.66 886.522 1516.35 Q889.716 1519.03 889.716 1523.52 Q889.716 1525.65 888.906 1527.57 Q888.119 1529.47 886.013 1532.07 Q885.434 1532.74 882.332 1535.95 Q879.23 1539.15 873.582 1544.91 Z\" fill=\"#000000\" fill-rule=\"evenodd\" fill-opacity=\"1\" /><path clip-path=\"url(#clip860)\" d=\"M909.716 1517.37 Q906.105 1517.37 904.277 1520.93 Q902.471 1524.47 902.471 1531.6 Q902.471 1538.71 904.277 1542.27 Q906.105 1545.82 909.716 1545.82 Q913.351 1545.82 915.156 1542.27 Q916.985 1538.71 916.985 1531.6 Q916.985 1524.47 915.156 1520.93 Q913.351 1517.37 909.716 1517.37 M909.716 1513.66 Q915.526 1513.66 918.582 1518.27 Q921.661 1522.85 921.661 1531.6 Q921.661 1540.33 918.582 1544.94 Q915.526 1549.52 909.716 1549.52 Q903.906 1549.52 900.827 1544.94 Q897.772 1540.33 897.772 1531.6 Q897.772 1522.85 900.827 1518.27 Q903.906 1513.66 909.716 1513.66 Z\" fill=\"#000000\" fill-rule=\"evenodd\" fill-opacity=\"1\" /><path clip-path=\"url(#clip860)\" d=\"M1224.29 1530.21 Q1227.65 1530.93 1229.52 1533.2 Q1231.42 1535.47 1231.42 1538.8 Q1231.42 1543.92 1227.9 1546.72 Q1224.39 1549.52 1217.9 1549.52 Q1215.73 1549.52 1213.41 1549.08 Q1211.12 1548.66 1208.67 1547.81 L1208.67 1543.29 Q1210.61 1544.43 1212.93 1545.01 Q1215.24 1545.58 1217.77 1545.58 Q1222.16 1545.58 1224.46 1543.85 Q1226.77 1542.11 1226.77 1538.8 Q1226.77 1535.75 1224.62 1534.03 Q1222.49 1532.3 1218.67 1532.3 L1214.64 1532.3 L1214.64 1528.45 L1218.85 1528.45 Q1222.3 1528.45 1224.13 1527.09 Q1225.96 1525.7 1225.96 1523.11 Q1225.96 1520.45 1224.06 1519.03 Q1222.19 1517.6 1218.67 1517.6 Q1216.75 1517.6 1214.55 1518.01 Q1212.35 1518.43 1209.71 1519.31 L1209.71 1515.14 Q1212.37 1514.4 1214.69 1514.03 Q1217.02 1513.66 1219.09 1513.66 Q1224.41 1513.66 1227.51 1516.09 Q1230.61 1518.5 1230.61 1522.62 Q1230.61 1525.49 1228.97 1527.48 Q1227.33 1529.45 1224.29 1530.21 Z\" fill=\"#000000\" fill-rule=\"evenodd\" fill-opacity=\"1\" /><path clip-path=\"url(#clip860)\" d=\"M1250.29 1517.37 Q1246.68 1517.37 1244.85 1520.93 Q1243.04 1524.47 1243.04 1531.6 Q1243.04 1538.71 1244.85 1542.27 Q1246.68 1545.82 1250.29 1545.82 Q1253.92 1545.82 1255.73 1542.27 Q1257.56 1538.71 1257.56 1531.6 Q1257.56 1524.47 1255.73 1520.93 Q1253.92 1517.37 1250.29 1517.37 M1250.29 1513.66 Q1256.1 1513.66 1259.15 1518.27 Q1262.23 1522.85 1262.23 1531.6 Q1262.23 1540.33 1259.15 1544.94 Q1256.1 1549.52 1250.29 1549.52 Q1244.48 1549.52 1241.4 1544.94 Q1238.34 1540.33 1238.34 1531.6 Q1238.34 1522.85 1241.4 1518.27 Q1244.48 1513.66 1250.29 1513.66 Z\" fill=\"#000000\" fill-rule=\"evenodd\" fill-opacity=\"1\" /><path clip-path=\"url(#clip860)\" d=\"M1564.26 1518.36 L1552.46 1536.81 L1564.26 1536.81 L1564.26 1518.36 M1563.04 1514.29 L1568.92 1514.29 L1568.92 1536.81 L1573.85 1536.81 L1573.85 1540.7 L1568.92 1540.7 L1568.92 1548.85 L1564.26 1548.85 L1564.26 1540.7 L1548.66 1540.7 L1548.66 1536.19 L1563.04 1514.29 Z\" fill=\"#000000\" fill-rule=\"evenodd\" fill-opacity=\"1\" /><path clip-path=\"url(#clip860)\" d=\"M1591.58 1517.37 Q1587.97 1517.37 1586.14 1520.93 Q1584.33 1524.47 1584.33 1531.6 Q1584.33 1538.71 1586.14 1542.27 Q1587.97 1545.82 1591.58 1545.82 Q1595.21 1545.82 1597.02 1542.27 Q1598.85 1538.71 1598.85 1531.6 Q1598.85 1524.47 1597.02 1520.93 Q1595.21 1517.37 1591.58 1517.37 M1591.58 1513.66 Q1597.39 1513.66 1600.44 1518.27 Q1603.52 1522.85 1603.52 1531.6 Q1603.52 1540.33 1600.44 1544.94 Q1597.39 1549.52 1591.58 1549.52 Q1585.77 1549.52 1582.69 1544.94 Q1579.63 1540.33 1579.63 1531.6 Q1579.63 1522.85 1582.69 1518.27 Q1585.77 1513.66 1591.58 1513.66 Z\" fill=\"#000000\" fill-rule=\"evenodd\" fill-opacity=\"1\" /><path clip-path=\"url(#clip860)\" d=\"M1891.43 1514.29 L1909.79 1514.29 L1909.79 1518.22 L1895.72 1518.22 L1895.72 1526.7 Q1896.73 1526.35 1897.75 1526.19 Q1898.77 1526 1899.79 1526 Q1905.58 1526 1908.96 1529.17 Q1912.34 1532.34 1912.34 1537.76 Q1912.34 1543.34 1908.86 1546.44 Q1905.39 1549.52 1899.07 1549.52 Q1896.9 1549.52 1894.63 1549.15 Q1892.38 1548.78 1889.98 1548.04 L1889.98 1543.34 Q1892.06 1544.47 1894.28 1545.03 Q1896.5 1545.58 1898.98 1545.58 Q1902.98 1545.58 1905.32 1543.48 Q1907.66 1541.37 1907.66 1537.76 Q1907.66 1534.15 1905.32 1532.04 Q1902.98 1529.94 1898.98 1529.94 Q1897.1 1529.94 1895.23 1530.35 Q1893.38 1530.77 1891.43 1531.65 L1891.43 1514.29 Z\" fill=\"#000000\" fill-rule=\"evenodd\" fill-opacity=\"1\" /><path clip-path=\"url(#clip860)\" d=\"M1931.55 1517.37 Q1927.94 1517.37 1926.11 1520.93 Q1924.3 1524.47 1924.3 1531.6 Q1924.3 1538.71 1926.11 1542.27 Q1927.94 1545.82 1931.55 1545.82 Q1935.18 1545.82 1936.99 1542.27 Q1938.82 1538.71 1938.82 1531.6 Q1938.82 1524.47 1936.99 1520.93 Q1935.18 1517.37 1931.55 1517.37 M1931.55 1513.66 Q1937.36 1513.66 1940.41 1518.27 Q1943.49 1522.85 1943.49 1531.6 Q1943.49 1540.33 1940.41 1544.94 Q1937.36 1549.52 1931.55 1549.52 Q1925.74 1549.52 1922.66 1544.94 Q1919.6 1540.33 1919.6 1531.6 Q1919.6 1522.85 1922.66 1518.27 Q1925.74 1513.66 1931.55 1513.66 Z\" fill=\"#000000\" fill-rule=\"evenodd\" fill-opacity=\"1\" /><path clip-path=\"url(#clip860)\" d=\"M2242.78 1529.7 Q2239.63 1529.7 2237.78 1531.86 Q2235.95 1534.01 2235.95 1537.76 Q2235.95 1541.49 2237.78 1543.66 Q2239.63 1545.82 2242.78 1545.82 Q2245.93 1545.82 2247.76 1543.66 Q2249.61 1541.49 2249.61 1537.76 Q2249.61 1534.01 2247.76 1531.86 Q2245.93 1529.7 2242.78 1529.7 M2252.06 1515.05 L2252.06 1519.31 Q2250.3 1518.48 2248.5 1518.04 Q2246.72 1517.6 2244.96 1517.6 Q2240.33 1517.6 2237.87 1520.72 Q2235.44 1523.85 2235.1 1530.17 Q2236.46 1528.15 2238.52 1527.09 Q2240.58 1526 2243.06 1526 Q2248.27 1526 2251.28 1529.17 Q2254.31 1532.32 2254.31 1537.76 Q2254.31 1543.08 2251.16 1546.3 Q2248.01 1549.52 2242.78 1549.52 Q2236.79 1549.52 2233.61 1544.94 Q2230.44 1540.33 2230.44 1531.6 Q2230.44 1523.41 2234.33 1518.55 Q2238.22 1513.66 2244.77 1513.66 Q2246.53 1513.66 2248.31 1514.01 Q2250.12 1514.36 2252.06 1515.05 Z\" fill=\"#000000\" fill-rule=\"evenodd\" fill-opacity=\"1\" /><path clip-path=\"url(#clip860)\" d=\"M2272.36 1517.37 Q2268.75 1517.37 2266.92 1520.93 Q2265.12 1524.47 2265.12 1531.6 Q2265.12 1538.71 2266.92 1542.27 Q2268.75 1545.82 2272.36 1545.82 Q2276 1545.82 2277.8 1542.27 Q2279.63 1538.71 2279.63 1531.6 Q2279.63 1524.47 2277.8 1520.93 Q2276 1517.37 2272.36 1517.37 M2272.36 1513.66 Q2278.17 1513.66 2281.23 1518.27 Q2284.31 1522.85 2284.31 1531.6 Q2284.31 1540.33 2281.23 1544.94 Q2278.17 1549.52 2272.36 1549.52 Q2266.55 1549.52 2263.48 1544.94 Q2260.42 1540.33 2260.42 1531.6 Q2260.42 1522.85 2263.48 1518.27 Q2266.55 1513.66 2272.36 1513.66 Z\" fill=\"#000000\" fill-rule=\"evenodd\" fill-opacity=\"1\" /><polyline clip-path=\"url(#clip862)\" style=\"stroke:#000000; stroke-linecap:butt; stroke-linejoin:round; stroke-width:2; stroke-opacity:0.1; fill:none\" points=\"\n  186.274,1445.72 2352.76,1445.72 \n  \"/>\n<polyline clip-path=\"url(#clip862)\" style=\"stroke:#000000; stroke-linecap:butt; stroke-linejoin:round; stroke-width:2; stroke-opacity:0.1; fill:none\" points=\"\n  186.274,1106.28 2352.76,1106.28 \n  \"/>\n<polyline clip-path=\"url(#clip862)\" style=\"stroke:#000000; stroke-linecap:butt; stroke-linejoin:round; stroke-width:2; stroke-opacity:0.1; fill:none\" points=\"\n  186.274,766.846 2352.76,766.846 \n  \"/>\n<polyline clip-path=\"url(#clip862)\" style=\"stroke:#000000; stroke-linecap:butt; stroke-linejoin:round; stroke-width:2; stroke-opacity:0.1; fill:none\" points=\"\n  186.274,427.411 2352.76,427.411 \n  \"/>\n<polyline clip-path=\"url(#clip862)\" style=\"stroke:#000000; stroke-linecap:butt; stroke-linejoin:round; stroke-width:2; stroke-opacity:0.1; fill:none\" points=\"\n  186.274,87.9763 2352.76,87.9763 \n  \"/>\n<polyline clip-path=\"url(#clip860)\" style=\"stroke:#000000; stroke-linecap:butt; stroke-linejoin:round; stroke-width:4; stroke-opacity:1; fill:none\" points=\"\n  186.274,1486.45 186.274,47.2441 \n  \"/>\n<polyline clip-path=\"url(#clip860)\" style=\"stroke:#000000; stroke-linecap:butt; stroke-linejoin:round; stroke-width:4; stroke-opacity:1; fill:none\" points=\"\n  186.274,1445.72 205.172,1445.72 \n  \"/>\n<polyline clip-path=\"url(#clip860)\" style=\"stroke:#000000; stroke-linecap:butt; stroke-linejoin:round; stroke-width:4; stroke-opacity:1; fill:none\" points=\"\n  186.274,1106.28 205.172,1106.28 \n  \"/>\n<polyline clip-path=\"url(#clip860)\" style=\"stroke:#000000; stroke-linecap:butt; stroke-linejoin:round; stroke-width:4; stroke-opacity:1; fill:none\" points=\"\n  186.274,766.846 205.172,766.846 \n  \"/>\n<polyline clip-path=\"url(#clip860)\" style=\"stroke:#000000; stroke-linecap:butt; stroke-linejoin:round; stroke-width:4; stroke-opacity:1; fill:none\" points=\"\n  186.274,427.411 205.172,427.411 \n  \"/>\n<polyline clip-path=\"url(#clip860)\" style=\"stroke:#000000; stroke-linecap:butt; stroke-linejoin:round; stroke-width:4; stroke-opacity:1; fill:none\" points=\"\n  186.274,87.9763 205.172,87.9763 \n  \"/>\n<path clip-path=\"url(#clip860)\" d=\"M62.9365 1431.51 Q59.3254 1431.51 57.4967 1435.08 Q55.6912 1438.62 55.6912 1445.75 Q55.6912 1452.86 57.4967 1456.42 Q59.3254 1459.96 62.9365 1459.96 Q66.5707 1459.96 68.3763 1456.42 Q70.205 1452.86 70.205 1445.75 Q70.205 1438.62 68.3763 1435.08 Q66.5707 1431.51 62.9365 1431.51 M62.9365 1427.81 Q68.7467 1427.81 71.8022 1432.42 Q74.8809 1437 74.8809 1445.75 Q74.8809 1454.48 71.8022 1459.08 Q68.7467 1463.67 62.9365 1463.67 Q57.1264 1463.67 54.0477 1459.08 Q50.9921 1454.48 50.9921 1445.75 Q50.9921 1437 54.0477 1432.42 Q57.1264 1427.81 62.9365 1427.81 Z\" fill=\"#000000\" fill-rule=\"evenodd\" fill-opacity=\"1\" /><path clip-path=\"url(#clip860)\" d=\"M83.0984 1457.12 L87.9827 1457.12 L87.9827 1463 L83.0984 1463 L83.0984 1457.12 Z\" fill=\"#000000\" fill-rule=\"evenodd\" fill-opacity=\"1\" /><path clip-path=\"url(#clip860)\" d=\"M108.168 1431.51 Q104.557 1431.51 102.728 1435.08 Q100.922 1438.62 100.922 1445.75 Q100.922 1452.86 102.728 1456.42 Q104.557 1459.96 108.168 1459.96 Q111.802 1459.96 113.608 1456.42 Q115.436 1452.86 115.436 1445.75 Q115.436 1438.62 113.608 1435.08 Q111.802 1431.51 108.168 1431.51 M108.168 1427.81 Q113.978 1427.81 117.033 1432.42 Q120.112 1437 120.112 1445.75 Q120.112 1454.48 117.033 1459.08 Q113.978 1463.67 108.168 1463.67 Q102.358 1463.67 99.2789 1459.08 Q96.2234 1454.48 96.2234 1445.75 Q96.2234 1437 99.2789 1432.42 Q102.358 1427.81 108.168 1427.81 Z\" fill=\"#000000\" fill-rule=\"evenodd\" fill-opacity=\"1\" /><path clip-path=\"url(#clip860)\" d=\"M138.33 1431.51 Q134.719 1431.51 132.89 1435.08 Q131.084 1438.62 131.084 1445.75 Q131.084 1452.86 132.89 1456.42 Q134.719 1459.96 138.33 1459.96 Q141.964 1459.96 143.769 1456.42 Q145.598 1452.86 145.598 1445.75 Q145.598 1438.62 143.769 1435.08 Q141.964 1431.51 138.33 1431.51 M138.33 1427.81 Q144.14 1427.81 147.195 1432.42 Q150.274 1437 150.274 1445.75 Q150.274 1454.48 147.195 1459.08 Q144.14 1463.67 138.33 1463.67 Q132.519 1463.67 129.441 1459.08 Q126.385 1454.48 126.385 1445.75 Q126.385 1437 129.441 1432.42 Q132.519 1427.81 138.33 1427.81 Z\" fill=\"#000000\" fill-rule=\"evenodd\" fill-opacity=\"1\" /><path clip-path=\"url(#clip860)\" d=\"M63.9319 1092.08 Q60.3208 1092.08 58.4921 1095.64 Q56.6865 1099.19 56.6865 1106.32 Q56.6865 1113.42 58.4921 1116.99 Q60.3208 1120.53 63.9319 1120.53 Q67.5661 1120.53 69.3717 1116.99 Q71.2004 1113.42 71.2004 1106.32 Q71.2004 1099.19 69.3717 1095.64 Q67.5661 1092.08 63.9319 1092.08 M63.9319 1088.38 Q69.742 1088.38 72.7976 1092.98 Q75.8763 1097.57 75.8763 1106.32 Q75.8763 1115.04 72.7976 1119.65 Q69.742 1124.23 63.9319 1124.23 Q58.1217 1124.23 55.043 1119.65 Q51.9875 1115.04 51.9875 1106.32 Q51.9875 1097.57 55.043 1092.98 Q58.1217 1088.38 63.9319 1088.38 Z\" fill=\"#000000\" fill-rule=\"evenodd\" fill-opacity=\"1\" /><path clip-path=\"url(#clip860)\" d=\"M84.0938 1117.68 L88.978 1117.68 L88.978 1123.56 L84.0938 1123.56 L84.0938 1117.68 Z\" fill=\"#000000\" fill-rule=\"evenodd\" fill-opacity=\"1\" /><path clip-path=\"url(#clip860)\" d=\"M103.191 1119.63 L119.51 1119.63 L119.51 1123.56 L97.566 1123.56 L97.566 1119.63 Q100.228 1116.87 104.811 1112.24 Q109.418 1107.59 110.598 1106.25 Q112.844 1103.72 113.723 1101.99 Q114.626 1100.23 114.626 1098.54 Q114.626 1095.78 112.682 1094.05 Q110.76 1092.31 107.658 1092.31 Q105.459 1092.31 103.006 1093.07 Q100.575 1093.84 97.7974 1095.39 L97.7974 1090.67 Q100.621 1089.53 103.075 1088.95 Q105.529 1088.38 107.566 1088.38 Q112.936 1088.38 116.131 1091.06 Q119.325 1093.75 119.325 1098.24 Q119.325 1100.37 118.515 1102.29 Q117.728 1104.19 115.621 1106.78 Q115.043 1107.45 111.941 1110.67 Q108.839 1113.86 103.191 1119.63 Z\" fill=\"#000000\" fill-rule=\"evenodd\" fill-opacity=\"1\" /><path clip-path=\"url(#clip860)\" d=\"M129.371 1089 L147.728 1089 L147.728 1092.94 L133.654 1092.94 L133.654 1101.41 Q134.672 1101.06 135.691 1100.9 Q136.709 1100.71 137.728 1100.71 Q143.515 1100.71 146.894 1103.89 Q150.274 1107.06 150.274 1112.47 Q150.274 1118.05 146.802 1121.15 Q143.33 1124.23 137.01 1124.23 Q134.834 1124.23 132.566 1123.86 Q130.32 1123.49 127.913 1122.75 L127.913 1118.05 Q129.996 1119.19 132.219 1119.74 Q134.441 1120.3 136.918 1120.3 Q140.922 1120.3 143.26 1118.19 Q145.598 1116.08 145.598 1112.47 Q145.598 1108.86 143.26 1106.76 Q140.922 1104.65 136.918 1104.65 Q135.043 1104.65 133.168 1105.07 Q131.316 1105.48 129.371 1106.36 L129.371 1089 Z\" fill=\"#000000\" fill-rule=\"evenodd\" fill-opacity=\"1\" /><path clip-path=\"url(#clip860)\" d=\"M62.9365 752.645 Q59.3254 752.645 57.4967 756.209 Q55.6912 759.751 55.6912 766.881 Q55.6912 773.987 57.4967 777.552 Q59.3254 781.094 62.9365 781.094 Q66.5707 781.094 68.3763 777.552 Q70.205 773.987 70.205 766.881 Q70.205 759.751 68.3763 756.209 Q66.5707 752.645 62.9365 752.645 M62.9365 748.941 Q68.7467 748.941 71.8022 753.547 Q74.8809 758.131 74.8809 766.881 Q74.8809 775.608 71.8022 780.214 Q68.7467 784.797 62.9365 784.797 Q57.1264 784.797 54.0477 780.214 Q50.9921 775.608 50.9921 766.881 Q50.9921 758.131 54.0477 753.547 Q57.1264 748.941 62.9365 748.941 Z\" fill=\"#000000\" fill-rule=\"evenodd\" fill-opacity=\"1\" /><path clip-path=\"url(#clip860)\" d=\"M83.0984 778.246 L87.9827 778.246 L87.9827 784.126 L83.0984 784.126 L83.0984 778.246 Z\" fill=\"#000000\" fill-rule=\"evenodd\" fill-opacity=\"1\" /><path clip-path=\"url(#clip860)\" d=\"M98.2141 749.566 L116.57 749.566 L116.57 753.501 L102.496 753.501 L102.496 761.973 Q103.515 761.626 104.534 761.464 Q105.552 761.279 106.571 761.279 Q112.358 761.279 115.737 764.45 Q119.117 767.621 119.117 773.038 Q119.117 778.617 115.645 781.719 Q112.172 784.797 105.853 784.797 Q103.677 784.797 101.409 784.427 Q99.1632 784.057 96.7558 783.316 L96.7558 778.617 Q98.8391 779.751 101.061 780.307 Q103.284 780.862 105.76 780.862 Q109.765 780.862 112.103 778.756 Q114.441 776.649 114.441 773.038 Q114.441 769.427 112.103 767.321 Q109.765 765.214 105.76 765.214 Q103.885 765.214 102.01 765.631 Q100.159 766.047 98.2141 766.927 L98.2141 749.566 Z\" fill=\"#000000\" fill-rule=\"evenodd\" fill-opacity=\"1\" /><path clip-path=\"url(#clip860)\" d=\"M138.33 752.645 Q134.719 752.645 132.89 756.209 Q131.084 759.751 131.084 766.881 Q131.084 773.987 132.89 777.552 Q134.719 781.094 138.33 781.094 Q141.964 781.094 143.769 777.552 Q145.598 773.987 145.598 766.881 Q145.598 759.751 143.769 756.209 Q141.964 752.645 138.33 752.645 M138.33 748.941 Q144.14 748.941 147.195 753.547 Q150.274 758.131 150.274 766.881 Q150.274 775.608 147.195 780.214 Q144.14 784.797 138.33 784.797 Q132.519 784.797 129.441 780.214 Q126.385 775.608 126.385 766.881 Q126.385 758.131 129.441 753.547 Q132.519 748.941 138.33 748.941 Z\" fill=\"#000000\" fill-rule=\"evenodd\" fill-opacity=\"1\" /><path clip-path=\"url(#clip860)\" d=\"M63.9319 413.21 Q60.3208 413.21 58.4921 416.775 Q56.6865 420.316 56.6865 427.446 Q56.6865 434.552 58.4921 438.117 Q60.3208 441.659 63.9319 441.659 Q67.5661 441.659 69.3717 438.117 Q71.2004 434.552 71.2004 427.446 Q71.2004 420.316 69.3717 416.775 Q67.5661 413.21 63.9319 413.21 M63.9319 409.506 Q69.742 409.506 72.7976 414.113 Q75.8763 418.696 75.8763 427.446 Q75.8763 436.173 72.7976 440.779 Q69.742 445.362 63.9319 445.362 Q58.1217 445.362 55.043 440.779 Q51.9875 436.173 51.9875 427.446 Q51.9875 418.696 55.043 414.113 Q58.1217 409.506 63.9319 409.506 Z\" fill=\"#000000\" fill-rule=\"evenodd\" fill-opacity=\"1\" /><path clip-path=\"url(#clip860)\" d=\"M84.0938 438.812 L88.978 438.812 L88.978 444.691 L84.0938 444.691 L84.0938 438.812 Z\" fill=\"#000000\" fill-rule=\"evenodd\" fill-opacity=\"1\" /><path clip-path=\"url(#clip860)\" d=\"M97.9826 410.131 L120.205 410.131 L120.205 412.122 L107.658 444.691 L102.774 444.691 L114.58 414.066 L97.9826 414.066 L97.9826 410.131 Z\" fill=\"#000000\" fill-rule=\"evenodd\" fill-opacity=\"1\" /><path clip-path=\"url(#clip860)\" d=\"M129.371 410.131 L147.728 410.131 L147.728 414.066 L133.654 414.066 L133.654 422.538 Q134.672 422.191 135.691 422.029 Q136.709 421.844 137.728 421.844 Q143.515 421.844 146.894 425.015 Q150.274 428.187 150.274 433.603 Q150.274 439.182 146.802 442.284 Q143.33 445.362 137.01 445.362 Q134.834 445.362 132.566 444.992 Q130.32 444.622 127.913 443.881 L127.913 439.182 Q129.996 440.316 132.219 440.872 Q134.441 441.427 136.918 441.427 Q140.922 441.427 143.26 439.321 Q145.598 437.214 145.598 433.603 Q145.598 429.992 143.26 427.886 Q140.922 425.779 136.918 425.779 Q135.043 425.779 133.168 426.196 Q131.316 426.613 129.371 427.492 L129.371 410.131 Z\" fill=\"#000000\" fill-rule=\"evenodd\" fill-opacity=\"1\" /><path clip-path=\"url(#clip860)\" d=\"M53.7467 101.321 L61.3856 101.321 L61.3856 74.9555 L53.0754 76.6222 L53.0754 72.3629 L61.3393 70.6963 L66.0152 70.6963 L66.0152 101.321 L73.654 101.321 L73.654 105.256 L53.7467 105.256 L53.7467 101.321 Z\" fill=\"#000000\" fill-rule=\"evenodd\" fill-opacity=\"1\" /><path clip-path=\"url(#clip860)\" d=\"M83.0984 99.3767 L87.9827 99.3767 L87.9827 105.256 L83.0984 105.256 L83.0984 99.3767 Z\" fill=\"#000000\" fill-rule=\"evenodd\" fill-opacity=\"1\" /><path clip-path=\"url(#clip860)\" d=\"M108.168 73.775 Q104.557 73.775 102.728 77.3398 Q100.922 80.8814 100.922 88.011 Q100.922 95.1174 102.728 98.6822 Q104.557 102.224 108.168 102.224 Q111.802 102.224 113.608 98.6822 Q115.436 95.1174 115.436 88.011 Q115.436 80.8814 113.608 77.3398 Q111.802 73.775 108.168 73.775 M108.168 70.0713 Q113.978 70.0713 117.033 74.6777 Q120.112 79.261 120.112 88.011 Q120.112 96.7378 117.033 101.344 Q113.978 105.928 108.168 105.928 Q102.358 105.928 99.2789 101.344 Q96.2234 96.7378 96.2234 88.011 Q96.2234 79.261 99.2789 74.6777 Q102.358 70.0713 108.168 70.0713 Z\" fill=\"#000000\" fill-rule=\"evenodd\" fill-opacity=\"1\" /><path clip-path=\"url(#clip860)\" d=\"M138.33 73.775 Q134.719 73.775 132.89 77.3398 Q131.084 80.8814 131.084 88.011 Q131.084 95.1174 132.89 98.6822 Q134.719 102.224 138.33 102.224 Q141.964 102.224 143.769 98.6822 Q145.598 95.1174 145.598 88.011 Q145.598 80.8814 143.769 77.3398 Q141.964 73.775 138.33 73.775 M138.33 70.0713 Q144.14 70.0713 147.195 74.6777 Q150.274 79.261 150.274 88.011 Q150.274 96.7378 147.195 101.344 Q144.14 105.928 138.33 105.928 Q132.519 105.928 129.441 101.344 Q126.385 96.7378 126.385 88.011 Q126.385 79.261 129.441 74.6777 Q132.519 70.0713 138.33 70.0713 Z\" fill=\"#000000\" fill-rule=\"evenodd\" fill-opacity=\"1\" /><polyline clip-path=\"url(#clip862)\" style=\"stroke:#009af9; stroke-linecap:butt; stroke-linejoin:round; stroke-width:4; stroke-opacity:1; fill:none\" points=\"\n  247.59,1445.72 281.654,1445.72 315.718,1445.72 349.782,1445.72 383.846,1445.72 417.91,1445.72 451.975,1445.72 486.039,1445.72 520.103,1445.72 554.167,1445.72 \n  588.231,1445.72 622.296,1445.72 656.36,1445.72 690.424,1445.72 724.488,1445.72 758.552,1445.72 792.616,1445.72 826.681,1445.72 860.745,1445.72 894.809,1445.72 \n  928.873,1445.72 962.937,1445.72 997.002,1445.72 1031.07,1445.72 1065.13,1445.72 1099.19,1445.72 1133.26,1445.72 1167.32,1445.72 1201.39,1445.72 1235.45,1445.72 \n  1269.51,1445.72 1303.58,1445.72 1337.64,1445.72 1371.71,1445.72 1405.77,1445.72 1439.84,1445.72 1473.9,1445.72 1507.96,1445.72 1542.03,1445.72 1576.09,1445.72 \n  1610.16,1445.72 1644.22,1445.72 1678.29,1445.72 1712.35,1445.72 1746.41,1445.72 1780.48,1445.72 1814.54,1445.72 1848.61,1445.72 1882.67,1445.72 1916.73,1445.72 \n  1950.8,1445.72 1984.86,1445.72 2018.93,1445.72 2052.99,766.846 2087.06,87.9763 2121.12,87.9763 2155.18,87.9763 2189.25,87.9763 2223.31,87.9763 2257.38,87.9763 \n  2291.44,87.9763 \n  \"/>\n<polyline clip-path=\"url(#clip862)\" style=\"stroke:#e26f46; stroke-linecap:butt; stroke-linejoin:round; stroke-width:4; stroke-opacity:1; fill:none\" points=\"\n  247.59,1445.72 281.654,1445.72 315.718,1445.72 349.782,1445.72 383.846,1445.72 417.91,1445.72 451.975,1445.72 486.039,1445.72 520.103,1445.72 554.167,1445.72 \n  588.231,1445.72 622.296,1445.72 656.36,1445.72 690.424,1445.72 724.488,1445.72 758.552,1445.72 792.616,1445.72 826.681,1445.72 860.745,1445.72 894.809,1445.72 \n  928.873,1445.72 962.937,1445.72 997.002,1445.72 1031.07,1445.72 1065.13,1445.72 1099.19,1445.72 1133.26,1445.72 1167.32,1445.72 1201.39,1445.72 1235.45,1445.72 \n  1269.51,1445.72 1303.58,1445.72 1337.64,1445.72 1371.71,1445.72 1405.77,1445.72 1439.84,1445.71 1473.9,1445.71 1507.96,1445.71 1542.03,1445.71 1576.09,1445.7 \n  1610.16,1445.69 1644.22,1445.66 1678.29,1445.61 1712.35,1445.49 1746.41,1445.27 1780.48,1444.83 1814.54,1443.95 1848.61,1442.18 1882.67,1438.64 1916.73,1431.57 \n  1950.8,1417.43 1984.86,1389.14 2018.93,1332.57 2052.99,993.136 2087.06,993.136 2121.12,993.136 2155.18,993.136 2189.25,993.136 2223.31,993.136 2257.38,993.136 \n  2291.44,993.136 \n  \"/>\n<path clip-path=\"url(#clip860)\" d=\"\nM2016.65 250.738 L2280.54 250.738 L2280.54 95.2176 L2016.65 95.2176  Z\n  \" fill=\"#ffffff\" fill-rule=\"evenodd\" fill-opacity=\"1\"/>\n<polyline clip-path=\"url(#clip860)\" style=\"stroke:#000000; stroke-linecap:butt; stroke-linejoin:round; stroke-width:4; stroke-opacity:1; fill:none\" points=\"\n  2016.65,250.738 2280.54,250.738 2280.54,95.2176 2016.65,95.2176 2016.65,250.738 \n  \"/>\n<polyline clip-path=\"url(#clip860)\" style=\"stroke:#009af9; stroke-linecap:butt; stroke-linejoin:round; stroke-width:4; stroke-opacity:1; fill:none\" points=\"\n  2040.72,147.058 2185.15,147.058 \n  \"/>\n<path clip-path=\"url(#clip860)\" d=\"M2225.73 128.319 L2225.73 131.861 L2221.66 131.861 Q2219.36 131.861 2218.46 132.787 Q2217.58 133.713 2217.58 136.12 L2217.58 138.412 L2224.59 138.412 L2224.59 141.722 L2217.58 141.722 L2217.58 164.338 L2213.3 164.338 L2213.3 141.722 L2209.22 141.722 L2209.22 138.412 L2213.3 138.412 L2213.3 136.606 Q2213.3 132.278 2215.31 130.31 Q2217.33 128.319 2221.7 128.319 L2225.73 128.319 Z\" fill=\"#000000\" fill-rule=\"evenodd\" fill-opacity=\"1\" /><polyline clip-path=\"url(#clip860)\" style=\"stroke:#e26f46; stroke-linecap:butt; stroke-linejoin:round; stroke-width:4; stroke-opacity:1; fill:none\" points=\"\n  2040.72,198.898 2185.15,198.898 \n  \"/>\n<path clip-path=\"url(#clip860)\" d=\"M2228.14 202.914 Q2228.14 198.284 2226.22 195.738 Q2224.32 193.192 2220.87 193.192 Q2217.44 193.192 2215.52 195.738 Q2213.62 198.284 2213.62 202.914 Q2213.62 207.52 2215.52 210.066 Q2217.44 212.613 2220.87 212.613 Q2224.32 212.613 2226.22 210.066 Q2228.14 207.52 2228.14 202.914 M2232.4 212.96 Q2232.4 219.58 2229.46 222.798 Q2226.52 226.039 2220.45 226.039 Q2218.21 226.039 2216.22 225.691 Q2214.22 225.367 2212.35 224.673 L2212.35 220.529 Q2214.22 221.548 2216.05 222.034 Q2217.88 222.52 2219.78 222.52 Q2223.97 222.52 2226.05 220.321 Q2228.14 218.145 2228.14 213.724 L2228.14 211.617 Q2226.82 213.909 2224.76 215.043 Q2222.7 216.178 2219.83 216.178 Q2215.06 216.178 2212.14 212.543 Q2209.22 208.909 2209.22 202.914 Q2209.22 196.895 2212.14 193.261 Q2215.06 189.627 2219.83 189.627 Q2222.7 189.627 2224.76 190.761 Q2226.82 191.895 2228.14 194.187 L2228.14 190.252 L2232.4 190.252 L2232.4 212.96 Z\" fill=\"#000000\" fill-rule=\"evenodd\" fill-opacity=\"1\" /></svg>\n"
     },
     "execution_count": 64,
     "metadata": {},
     "output_type": "execute_result"
    }
   ],
   "source": [
    "#Problem 1.2\n",
    "\n",
    "using Plots\n",
    "\n",
    "x=0\n",
    "\n",
    "f(x) = 1 + x + x^2\n",
    "\n",
    "g(x) = 1 + x/3 + x^2\n",
    "\n",
    "\n",
    "#(f(x+h)-f(x-h))/(2*h)\n",
    "\n",
    "h = 2.0 .^ (0:-1:-60)\n",
    "\n",
    "#h = 10.0 .^ (0.0:-1.0:-16.0)\n",
    "\n",
    "abs_err_f = abs.(((f.(h) .- f.(0 .- h)) ./ (2 .* h)) .- 1)\n",
    "\n",
    "# nanabs = x -> iszero(x) ? NaN : abs(x) # avoid 0's in log scale plot\n",
    "# plot(nanabs.((f.(h) .- f.(.-h)) ./ 2 .* h .- 1); yscale=:log10, title=\"convergence of derivatives, h = 2^(-n)\", label=\"f\", legend=:bottomleft)\n",
    "\n",
    "abs_err_g = abs.(((g.(h) .- g.(0 .- h)) ./ (2 .* h)) .- 1/3)\n",
    "\n",
    "print(abs_err_f)\n",
    "\n",
    "plot((1:61), abs_err_f; label=\"f\")\n",
    "plot!((1:61), abs_err_g; label=\"g\")"
   ]
  },
  {
   "cell_type": "code",
   "execution_count": 85,
   "metadata": {},
   "outputs": [
    {
     "name": "stdout",
     "output_type": "stream",
     "text": [
      "6.584772564470768\n",
      "6.5847727209329605\n",
      "-7.472374633495162e15\n"
     ]
    }
   ],
   "source": [
    "#we want accuracy to 5 decimal places so set:\n",
    "\n",
    "h = 2 ^ -25\n",
    "\n",
    "f(x) = exp(exp(x)*cos(x)+sin(x))\n",
    "\n",
    "func1(x) = f(0) + (f(0+h)-f(0-h))/(2*h) * x + ((f(0+h)-2*f(0)-f(x-h))/(h^2)) * x ^ 2\n",
    "\n",
    "firstcentral(x) = (f(x+h)-f(x-h))/(2*h)\n",
    "\n",
    "firstfinite(x) = (f(x+h)-f(x))/(h)\n",
    "\n",
    "secondfinite(x) = (f(x+h)-2*f(x)-f(x-h))/(h^2)\n",
    "\n",
    "func1(0.1)\n",
    "\n",
    "println(firstcentral(0.1))\n",
    "\n",
    "println(firstfinite(0.1))\n",
    "\n",
    "println(secondfinite(0.1))\n"
   ]
  },
  {
   "cell_type": "code",
   "execution_count": 11,
   "metadata": {},
   "outputs": [
    {
     "data": {
      "text/plain": [
       "66.36"
      ]
     },
     "execution_count": 11,
     "metadata": {},
     "output_type": "execute_result"
    }
   ],
   "source": [
    "f(x) = \n",
    "\n",
    "firstcentral(0.1)\n",
    "\n",
    "firstfinite(0.1)\n",
    "\n",
    "secondfinite(0.1)"
   ]
  },
  {
   "cell_type": "markdown",
   "metadata": {},
   "source": [
    "## 2. Dual numbers\n",
    "\n",
    "**Problem 2.1⋆** \n",
    "Show that dual numbers $𝔻$ are a _commutative ring_, that is, for all $a,b,c ∈ 𝔻$ the following are satisfied:\n",
    "1. _additive associativity_: $(a + b) + c = a + (b + c)$\n",
    "2. _additive commutativity_: $a + b = b + a$\n",
    "3. _additive identity_: There exists $0 ∈ 𝔻$ such that $a + 0 = a$.\n",
    "4. _additive inverse_: There exists $-a$ such that $(-a) + a = 0$.\n",
    "5. _multiplicative associativity_: $(ab)c = a(bc)$\n",
    "6. _multiplictive commutativity_: $ab = ba$\n",
    "7. _multiplictive identity_: There exists $1 ∈ 𝔻$ such that $1a= a$.\n",
    "8. _distributive_: $a(b+c) = ab + ac$\n",
    "\n",
    "**Problem 2.2⋆** A _field_ is a commutative ring such that $0 ≠ 1$ and all nonzero elements have a multiplicative inverse, i.e.,\n",
    "there exists $a^{-1}$ such that $a a^{-1} = 1$. Why isn't $𝔻$ a field?\n",
    "\n",
    "**Problem 2.3⋆** A _matrix representation_ of a ring are maps from a group/ring to matrices such that matrix addition and multiplication\n",
    "behave exactly like addition and multiplication that of the ring. \n",
    "That is, if $A$ and $B$ are elements of the ring and $ρ$ is a representation, then\n",
    "$$\n",
    "ρ(A + B) = ρ(A) + ρ(B) \\hbox{ and } ρ(AB) = ρ(A)ρ(B).\n",
    "$$\n",
    "Show that the following are matrix representations of complex numbers and\n",
    "dual numbers (respectively):\n",
    "$$\n",
    "\\begin{align*}\n",
    "a + b {\\rm i} &\\mapsto \\begin{pmatrix} a & b \\\\ -b & a \\end{pmatrix} \\\\\n",
    "a + b {\\rm i} &\\mapsto \\begin{pmatrix} a & b \\\\ 0 & a \\end{pmatrix}\n",
    "\\end{align*}\n",
    "$$\n",
    "\n",
    "\n",
    "$\\bigstar$ **Problem 2.4⋆** What is the correct definition of division on dual numbers, i.e.,\n",
    "$$\n",
    "(a + b \\epsilon )/(c + d \\epsilon ) = s + t \\epsilon\n",
    "$$\n",
    "for what choice of $s$ and $t$? Use dual numbers to compute the derivative of the following functions at $x = 0.1$:\n",
    "$$\n",
    "\\exp(\\exp x \\cos x + \\sin x), \\prod_{k=1}^3 \\left({x \\over k}-1\\right),\\hbox{ and } f^{\\rm s}_2(x) = {1 + {x - 1 \\over 2 + {x-1 \\over 2}}}\n",
    "$$\n",
    "\n",
    "\n",
    "**Problem 2.5** Add support for `cos`, `sin`, and `/` to the type `Dual`:"
   ]
  },
  {
   "cell_type": "code",
   "execution_count": 121,
   "metadata": {
    "execution": {
     "iopub.execute_input": "2022-01-19T20:07:29.272650Z",
     "iopub.status.busy": "2022-01-19T20:07:29.272069Z",
     "iopub.status.idle": "2022-01-19T20:07:29.578514Z",
     "shell.execute_reply": "2022-01-19T20:07:29.577878Z"
    }
   },
   "outputs": [
    {
     "data": {
      "text/plain": [
       "/ (generic function with 136 methods)"
      ]
     },
     "execution_count": 121,
     "metadata": {},
     "output_type": "execute_result"
    }
   ],
   "source": [
    "# Dual(a,b) represents a + b*ϵ\n",
    "struct Dual{T}\n",
    "    a::T\n",
    "    b::T\n",
    "end\n",
    "\n",
    "# Dual(a) represents a + 0*ϵ\n",
    "Dual(a::Real) = Dual(a, zero(a)) # for real numbers we use a + 0ϵ\n",
    "\n",
    "# Allow for a + b*ϵ syntax\n",
    "const ϵ = Dual(0, 1)\n",
    "\n",
    "import Base: +, *, -, /, ^, zero, exp, cos, sin\n",
    "\n",
    "# support polynomials like 1 + x, x - 1, 2x or x*2 by reducing to Dual\n",
    "+(x::Real, y::Dual) = Dual(x) + y\n",
    "+(x::Dual, y::Real) = x + Dual(y)\n",
    "-(x::Real, y::Dual) = Dual(x) - y\n",
    "-(x::Dual, y::Real) = x - Dual(y)\n",
    "*(x::Real, y::Dual) = Dual(x) * y\n",
    "*(x::Dual, y::Real) = x * Dual(y)\n",
    "\n",
    "# support x/2 (but not yet division of duals)\n",
    "/(x::Dual, k::Real) = Dual(x.a/k, x.b/k)\n",
    "\n",
    "# a simple recursive function to support x^2, x^3, etc.\n",
    "function ^(x::Dual, k::Integer)\n",
    "    if k < 0\n",
    "        error(\"Not implemented\")\n",
    "    elseif k == 1\n",
    "        x\n",
    "    else\n",
    "        x^(k-1) * x\n",
    "    end\n",
    "end\n",
    "\n",
    "# Algebraic operationds for duals\n",
    "-(x::Dual) = Dual(-x.a, -x.b)\n",
    "+(x::Dual, y::Dual) = Dual(x.a + y.a, x.b + y.b)\n",
    "-(x::Dual, y::Dual) = Dual(x.a - y.a, x.b - y.b)\n",
    "*(x::Dual, y::Dual) = Dual(x.a*y.a, x.a*y.b + x.b*y.a)\n",
    "\n",
    "exp(x::Dual) = Dual(exp(x.a), exp(x.a) * x.b)\n",
    "\n",
    "function cos(x::Dual)\n",
    "    Dual(cos(x.a),-x.b*sin(x.a))\n",
    "end\n",
    "\n",
    "function sin(x::Dual)\n",
    "    Dual(sin(x.a),x.b*cos(x.a))\n",
    "end\n",
    "\n",
    "function /(x::Dual, y::Dual)\n",
    "    Dual(x.a / y.a , (y.a*x.b - x.a*y.b) / (y.a)^2)\n",
    "end"
   ]
  },
  {
   "cell_type": "markdown",
   "metadata": {},
   "source": [
    "$\\bigstar$ **Problem 2.6** Use dual numbers to compute the derivatives to\n",
    "$$\n",
    "\\exp(\\exp x \\cos x + \\sin x), \\prod_{k=1}^{1000} \\left({x \\over k}-1\\right), \\hbox{ and } f^{\\rm s}_{1000}(x).\n",
    "$$\n",
    "Does your answer match (to 5 digits) Problem 1.4?\n",
    "\n",
    "\n",
    "## 3. Newton iteration\n",
    "\n",
    "Newton iteration is an algorithm for computed roots of a function $f$ using its derivative: given an initial guess $x_0$, one\n",
    "obtains a sequence of guesses via\n",
    "$$\n",
    "x_{k+1} = x_k - {f(x_k) \\over f'(x_k)}\n",
    "$$\n",
    "\n",
    "$\\bigstar$ **Problem 3.1** Use `Dual` to implement the following function which returns $x_n$:"
   ]
  },
  {
   "cell_type": "code",
   "execution_count": 126,
   "metadata": {
    "execution": {
     "iopub.execute_input": "2022-01-19T20:07:29.580681Z",
     "iopub.status.busy": "2022-01-19T20:07:29.580114Z",
     "iopub.status.idle": "2022-01-19T20:07:29.686903Z",
     "shell.execute_reply": "2022-01-19T20:07:29.686205Z"
    }
   },
   "outputs": [
    {
     "name": "stdout",
     "output_type": "stream",
     "text": [
      "Dual{Float64}(NaN, NaN)"
     ]
    }
   ],
   "source": [
    "struct Dual{T}\n",
    "    a::T\n",
    "    b::T\n",
    "end\n",
    "\n",
    "const ϵ = Dual(0, 1)\n",
    "\n",
    "\n",
    "function newton(f, x0, n)\n",
    "\n",
    "    ret = Dual(x0,0.0)\n",
    "\n",
    "    for i in 1:n\n",
    "\n",
    "        diff(ret) = (f(ret+Dual(0.0,1.0)) - f(ret+Dual(0.0,-1.0))) / Dual(0,2)\n",
    "\n",
    "        ret = ret - f(ret)/diff(ret)\n",
    "\n",
    "    end\n",
    "\n",
    "    ret\n",
    "\n",
    "end\n",
    "\n",
    "print(newton(sin, 0.1, 3))"
   ]
  },
  {
   "cell_type": "markdown",
   "metadata": {},
   "source": [
    "$\\bigstar$ **Problem 3.2** Compute points $y$ such that $|f(y)| \\leq 10^{-13}$ (i.e., approximate roots):\n",
    "$$\n",
    "\\exp(\\exp x \\cos x + \\sin x)-6\\hbox{ and } \\prod_{k=1}^{1000} \\left({x \\over k}-1\\right) - {1 \\over 2}\n",
    "$$\n",
    "(Hint: you may need to try different `x0` and `n` to get convergence. Plotting the function should give an\n",
    "indication of a good initial guess.)\n",
    "\n",
    "$\\bigstar$ **Problem 3.3** Compute points $y$ such that $|f^{\\rm s}_{1000}(y) - j| \\leq 10^{-13}$ for $j = 1,2,3$. \n",
    "Make a conjecture of what $f^{\\rm s}_n(x)$ converges to as $n → ∞$. (Bonus problem: Prove your conjecture.)"
   ]
  },
  {
   "cell_type": "markdown",
   "metadata": {},
   "source": []
  }
 ],
 "metadata": {
  "kernelspec": {
   "display_name": "Julia 1.7.1",
   "language": "julia",
   "name": "julia-1.7"
  },
  "language_info": {
   "file_extension": ".jl",
   "mimetype": "application/julia",
   "name": "julia",
   "version": "1.7.1"
  }
 },
 "nbformat": 4,
 "nbformat_minor": 2
}
