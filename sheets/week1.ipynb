{
 "cells": [
  {
   "cell_type": "markdown",
   "metadata": {},
   "source": [
    "# Week 1\n",
    "\n",
    "This problem sheet tests the representation of numbers on the computer, using\n",
    "modular arithmetic. We also use floating point rounding modes to implement \n",
    "interval arithmetic, and thereby\n",
    "produce rigorous bounds on the exponential."
   ]
  },
  {
   "cell_type": "code",
   "execution_count": 84,
   "metadata": {
    "execution": {
     "iopub.execute_input": "2022-01-14T09:40:28.247561Z",
     "iopub.status.busy": "2022-01-14T09:40:27.848239Z",
     "iopub.status.idle": "2022-01-14T09:40:28.471953Z",
     "shell.execute_reply": "2022-01-14T09:40:28.471450Z"
    }
   },
   "outputs": [],
   "source": [
    "using ColorBitstring, SetRounding"
   ]
  },
  {
   "cell_type": "markdown",
   "metadata": {},
   "source": [
    "Questions marked with a ⋆ are meant to be completed without using a computer.\n",
    "\n",
    "## 1. Binary representation\n",
    "\n",
    "\n",
    "**Problem 1.1** What is the binary representations of $1/5$? (Hint: use `printbits` to derive a proposed form.)\n",
    "\n",
    "\n",
    "\n",
    "**Problem 1.2⋆** What is $\\pi$ to 5 binary places? Hint: recall that $\\pi \\approx  3.14$.\n",
    "\n",
    "\n",
    "## 2. Integers\n",
    "\n",
    "**Problem 2.1⋆** With 8-bit signed integers, find the bits for the following: $10, 120, -10$.\n",
    "\n",
    "\n",
    "**Problem 2.2⋆** What will `Int8(120) + Int8(10)` return?\n",
    "\n",
    "\n",
    "## 3. Floating point numbers\n",
    "\n",
    "$\\bigstar$ **Problem 3.1⋆** What are the single precision $F_{32}$ (`Float32`) floating point representations for the following: \n",
    "$$\n",
    "2, 31, 32, 23/4, (23/4)\\times 2^{100}\n",
    "$$\n",
    "Check your answers using `printbits`.\n",
    "\n",
    "\n",
    "$\\bigstar$ **Problem 3.2** Let $m(y) = \\min\\{x \\in F_{32} : x > y \\}$ be the smallest single precision number\n",
    "greater than $y$. What is $m(2) - 2$ and $m(1024) - 1024$? Check your answer using the `nextfloat`\n",
    "command.\n",
    "\n",
    "\n",
    "\n",
    "## 4. Arithmetic\n",
    "\n",
    "\n",
    "**Problem 4.1⋆** Suppose $x = 1.25$ and consider 16-bit floating point arithmetic (`Float16`). \n",
    "What is the error in approximating $x$ by the nearest float point number ${\\rm fl}(x)$?\n",
    "What is the error in approximating $2x$, $x/2$, $x + 2$ and $x - 2$ by $2 \\otimes x$, $x \\oslash 2$, $x ⊕ 2$ and $x \\ominus 2$?\n",
    "\n",
    "**Problem 4.2⋆** For what floating point numbers is $x \\oslash 2 \\neq x/2$ and $x ⊕ 2 \\neq x + 2$?\n",
    "\n",
    "\n",
    "\n",
    "\n",
    "**Problem 4.3⋆** Explain why the following return `true`. What is the largest floating point number `y` such that `y + 1 ≠ y`?"
   ]
  },
  {
   "cell_type": "code",
   "execution_count": 85,
   "metadata": {
    "execution": {
     "iopub.execute_input": "2022-01-14T09:40:28.474008Z",
     "iopub.status.busy": "2022-01-14T09:40:28.473471Z",
     "iopub.status.idle": "2022-01-14T09:40:28.891874Z",
     "shell.execute_reply": "2022-01-14T09:40:28.891345Z"
    }
   },
   "outputs": [
    {
     "data": {
      "text/plain": [
       "true"
      ]
     },
     "execution_count": 85,
     "metadata": {},
     "output_type": "execute_result"
    }
   ],
   "source": [
    "x = 10.0^100\n",
    "x + 1 == x\n",
    "\n",
    "y=2.0^53\n",
    "y + 1 == y"
   ]
  },
  {
   "cell_type": "markdown",
   "metadata": {},
   "source": [
    "**Problem 4.4⋆** What are the exact bits for $1/5$, $1/5 + 1$ computed\n",
    "using  half-precision arithmetic (`Float16`) (using default rounding)?\n",
    "\n",
    "\n",
    "\n",
    "$\\bigstar$ **Problem 4.5⋆** Explain why the following does not return `1`. Can you compute the bits explicitly?"
   ]
  },
  {
   "cell_type": "code",
   "execution_count": 86,
   "metadata": {
    "execution": {
     "iopub.execute_input": "2022-01-14T09:40:28.893935Z",
     "iopub.status.busy": "2022-01-14T09:40:28.893430Z",
     "iopub.status.idle": "2022-01-14T09:40:29.108163Z",
     "shell.execute_reply": "2022-01-14T09:40:29.107690Z"
    }
   },
   "outputs": [
    {
     "data": {
      "text/plain": [
       "Float16(1.004)"
      ]
     },
     "execution_count": 86,
     "metadata": {},
     "output_type": "execute_result"
    }
   ],
   "source": [
    "Float16(0.1) / (Float16(1.1) - 1)"
   ]
  },
  {
   "cell_type": "markdown",
   "metadata": {},
   "source": [
    "**Problem 4.6⋆** Find a bound on the _absolute error_ in terms of a constant times\n",
    "$ϵ_{\\rm m}$ for the following computations\n",
    "$$\n",
    "\\begin{align*}\n",
    "(1.1 * 1.2) &+ 1.3 \\\\\n",
    "(1.1 - 1) &/ 0.1 \n",
    "\\end{align*}\n",
    "$$\n",
    "implemented using floating point arithmetic (with any precision). \n",
    "\n",
    "\n",
    "\n",
    "\n",
    "## 5. Interval arithmetic\n",
    "\n",
    "\n",
    "The following problems consider implementation of interval arithmetic for\n",
    "proving precise bounds on arithmetic operations. That is recall the set operations\n",
    "$$\n",
    "A + B = \\{x + y : x \\in A, y \\in B\\}, AB = \\{xy : x \\in A, y \\in B\\}.\n",
    "$$\n",
    "\n",
    "**Problem 5.1⋆** For intervals $A = [a,b]$ and $B = [c,d]$ such that $0 \\notin A,B$\n",
    " and integer $n \\neq 0$, \n",
    "deduce formulas for the minimum and maximum of $A/n$, $A+B$ and $AB$.\n",
    "\n",
    "\n",
    "\n",
    "\n",
    "\n",
    "\n",
    "**Problem 5.2** \n",
    "We want to implement floating point variants such that, for $S = [a,b] + [c,d]$\n",
    " $P = [a,b] * [c,d]$, and $D = [a,b]/n$ for an integer $n$,\n",
    "$$\n",
    "\\begin{align*}\n",
    "[a,b] ⊕ [c,d] &:= [{\\rm fl}^{\\rm down}(\\min S), {\\rm fl}^{\\rm up}(\\max S)] \\\\\n",
    "[a,b] ⊗ [c,d] &:= [{\\rm fl}^{\\rm down}(\\min P), {\\rm fl}^{\\rm up}(\\max P)] \\\\\n",
    "[a,b] ⊘ n &:= [{\\rm fl}^{\\rm down}(\\min D), {\\rm fl}^{\\rm up}(\\max D)]\n",
    "\\end{align*}\n",
    "$$\n",
    "This guarantees $S ⊆ [a,b] ⊕ [c,d]$, $P ⊆ [a,b] ⊗ [c,d]$, and\n",
    "$D ⊆ [a,b] ⊘ n$.\n",
    "In other words, if $x \\in [a,b]$ and\n",
    "$y \\in [c,d]$ then $x +y \\in [a,b] ⊕ [c,d]$, and we thereby have  bounds on $x + y$.\n",
    "\n",
    "Use the formulae from Problem 5.1 to complete (by replacing the `# TODO: …` comments with code)\n",
    " the following implementation of an \n",
    "`Interval` \n",
    "so that `+`, `-`, and `/` implement $⊕$, $⊖$, and $⊘$ as defined above."
   ]
  },
  {
   "cell_type": "code",
   "execution_count": 87,
   "metadata": {
    "execution": {
     "iopub.execute_input": "2022-01-14T09:40:29.110572Z",
     "iopub.status.busy": "2022-01-14T09:40:29.110061Z",
     "iopub.status.idle": "2022-01-14T09:40:29.496263Z",
     "shell.execute_reply": "2022-01-14T09:40:29.495806Z"
    }
   },
   "outputs": [
    {
     "data": {
      "text/plain": [
       "* (generic function with 365 methods)"
      ]
     },
     "execution_count": 87,
     "metadata": {},
     "output_type": "execute_result"
    }
   ],
   "source": [
    "# Interval(a,b) represents the closed interval [a,b]\n",
    "struct Interval{T}\n",
    "    a::T\n",
    "    b::T\n",
    "end\n",
    "\n",
    "import Base: *, +, -, /, one, in\n",
    "\n",
    "# create an interval corresponding to [1,1]\n",
    "one(x::Interval) = Interval(one(x.a), one(x.b))\n",
    "\n",
    "# Support x in Interval(a,b)\n",
    "in(x, y::Interval) = y.a ≤ x ≤ y.b\n",
    "\n",
    "# Following should implement ⊕\n",
    "function +(x::Interval, y::Interval)\n",
    "    T = promote_type(typeof(x.a), typeof(x.b))\n",
    "    a = setrounding(T, RoundDown) do\n",
    "        a = a + x\n",
    "    end\n",
    "    b = setrounding(T, RoundUp) do\n",
    "        b = b + y\n",
    "    end\n",
    "    Interval(a, b)\n",
    "end\n",
    "\n",
    "# Following should implement ⊘\n",
    "function /(x::Interval, n::Integer)\n",
    "    T = typeof(x.a)\n",
    "    if iszero(n)\n",
    "        error(\"Dividing by zero not support\")\n",
    "    end\n",
    "    a = setrounding(T, RoundDown) do\n",
    "        a = a/n\n",
    "    end\n",
    "    b = setrounding(T, RoundUp) do\n",
    "        b = b/n\n",
    "    end\n",
    "    Interval(a, b)\n",
    "end\n",
    "\n",
    "# Following should implement ⊗\n",
    "function *(x::Interval, y::Interval)\n",
    "    T = promote_type(typeof(x.a), typeof(x.b))\n",
    "    if 0 in x || 0 in y\n",
    "        error(\"Multiplying with intervals containing 0 not supported.\")\n",
    "    end\n",
    "    a = setrounding(T, RoundDown) do\n",
    "        a = a*x\n",
    "    end\n",
    "    b = setrounding(T, RoundUp) do\n",
    "        b = b*y\n",
    "    end\n",
    "    Interval(a, b)\n",
    "end"
   ]
  },
  {
   "cell_type": "markdown",
   "metadata": {},
   "source": [
    "**Problem 5.3** The following function  computes the first `n+1` terms of the Taylor series of $\\exp(x)$:\n",
    "$$\n",
    "\\sum_{k=0}^n {x^k \\over k!}\n",
    "$$"
   ]
  },
  {
   "cell_type": "code",
   "execution_count": 88,
   "metadata": {
    "execution": {
     "iopub.execute_input": "2022-01-14T09:40:29.498343Z",
     "iopub.status.busy": "2022-01-14T09:40:29.497839Z",
     "iopub.status.idle": "2022-01-14T09:40:29.573862Z",
     "shell.execute_reply": "2022-01-14T09:40:29.573411Z"
    }
   },
   "outputs": [
    {
     "data": {
      "text/plain": [
       "exp_t (generic function with 1 method)"
      ]
     },
     "execution_count": 88,
     "metadata": {},
     "output_type": "execute_result"
    }
   ],
   "source": [
    "function exp_t(x, n)\n",
    "    ret = one(x) # 1 of same type as x\n",
    "    s = one(x)\n",
    "    for k = 1:n\n",
    "        s = s/k * x\n",
    "        ret = ret + s\n",
    "    end\n",
    "    ret\n",
    "end"
   ]
  },
  {
   "cell_type": "markdown",
   "metadata": {},
   "source": [
    "Bound the tail of the Taylor series for ${\\rm e}^x$ assuming $|x| \\leq 1$. \n",
    "(Hint: ${\\rm e}^x \\leq 3$ for $x \\leq 1$.)\n",
    "Use the bound\n",
    "to complete the function `exp_bound` which computes ${\\rm e}^x$ with rigorous error bounds, that is\n",
    "so that when applied to an interval $[a,b]$ it returns an interval that is \n",
    "guaranteed to contain the interval $[{\\rm e}^a, {\\rm e}^b]$."
   ]
  },
  {
   "cell_type": "code",
   "execution_count": 89,
   "metadata": {
    "execution": {
     "iopub.execute_input": "2022-01-14T09:40:29.575925Z",
     "iopub.status.busy": "2022-01-14T09:40:29.575431Z",
     "iopub.status.idle": "2022-01-14T09:40:29.660673Z",
     "shell.execute_reply": "2022-01-14T09:40:29.660210Z"
    }
   },
   "outputs": [
    {
     "data": {
      "text/plain": [
       "exp_bound (generic function with 1 method)"
      ]
     },
     "execution_count": 89,
     "metadata": {},
     "output_type": "execute_result"
    }
   ],
   "source": [
    "function exp_bound(x::Interval, n)\n",
    "    if abs(x.a) > 1 || abs(x.b) > 1\n",
    "        error(\"Interval must be a subset of [-1, 1]\")\n",
    "    end\n",
    "    ret = exp_t(x, n) # the code for Taylor series should work on Interval unmodified\n",
    "    f = factorial(min(20, n + 1)) # avoid overflow in computing factorial\n",
    "    T = typeof(ret.a)\n",
    "\n",
    "    # TODO: modify ret so that exp(x) is guaranteed to lie in it\n",
    "end"
   ]
  },
  {
   "cell_type": "markdown",
   "metadata": {},
   "source": [
    "Check your result by assuring that\n",
    "the following returns `true`:"
   ]
  },
  {
   "cell_type": "code",
   "execution_count": 90,
   "metadata": {
    "execution": {
     "iopub.execute_input": "2022-01-14T09:40:29.662626Z",
     "iopub.status.busy": "2022-01-14T09:40:29.662129Z",
     "iopub.status.idle": "2022-01-14T09:40:30.966762Z",
     "shell.execute_reply": "2022-01-14T09:40:30.966090Z"
    }
   },
   "outputs": [
    {
     "ename": "LoadError",
     "evalue": "UndefVarError: a not defined",
     "output_type": "error",
     "traceback": [
      "UndefVarError: a not defined",
      "",
      "Stacktrace:",
      " [1] (::var\"#41#43\"{Int64})()",
      "   @ Main ./In[87]:34",
      " [2] setrounding(f::var\"#41#43\"{Int64}, #unused#::Type{Float64}, rounding::RoundingMode{:Down})",
      "   @ Base.Rounding ./rounding.jl:176",
      " [3] /(x::Interval{Float64}, n::Int64)",
      "   @ Main ./In[87]:33",
      " [4] exp_t",
      "   @ ./In[88]:5 [inlined]",
      " [5] exp_bound(x::Interval{Float64}, n::Int64)",
      "   @ Main ./In[89]:5",
      " [6] top-level scope",
      "   @ In[90]:1",
      " [7] eval",
      "   @ ./boot.jl:373 [inlined]",
      " [8] include_string(mapexpr::typeof(REPL.softscope), mod::Module, code::String, filename::String)",
      "   @ Base ./loading.jl:1196"
     ]
    }
   ],
   "source": [
    "exp(big(1)) in exp_bound(Interval(1.0,1.0), 20) && exp(big(-1)) in exp_bound(Interval(-1.0,-1.0), 20)"
   ]
  },
  {
   "cell_type": "markdown",
   "metadata": {},
   "source": [
    "## My Answers"
   ]
  },
  {
   "cell_type": "markdown",
   "metadata": {},
   "source": [
    "**Problem 1.1**\n"
   ]
  },
  {
   "cell_type": "code",
   "execution_count": 91,
   "metadata": {},
   "outputs": [
    {
     "name": "stdout",
     "output_type": "stream",
     "text": [
      "\u001b[31m0\u001b[0m\u001b[32m01111111100\u001b[0m\u001b[34m1001100110011001100110011001100110011001100110011010\u001b[0m"
     ]
    }
   ],
   "source": [
    "printbits(Float64(1/5))\n",
    "#see goodnotes for working\n",
    "\n",
    "#test"
   ]
  },
  {
   "cell_type": "markdown",
   "metadata": {},
   "source": [
    "**Problem 1.2**\n",
    "\n",
    "$\\pi \\approx (11.001)_2$"
   ]
  },
  {
   "cell_type": "markdown",
   "metadata": {},
   "source": [
    "**Problem 2.1**\n",
    "\n",
    "$10=(00001010)_2$\n",
    "\n",
    "$120=(01111000)_2$\n",
    "\n",
    "$-10=(11110110)_2$"
   ]
  },
  {
   "cell_type": "code",
   "execution_count": 11,
   "metadata": {},
   "outputs": [
    {
     "name": "stdout",
     "output_type": "stream",
     "text": [
      "\u001b[31m0\u001b[0m\u001b[34m0001010\u001b[0m\n",
      "\u001b[31m0\u001b[0m\u001b[34m1111000\u001b[0m\n",
      "\u001b[31m1\u001b[0m\u001b[34m1110110\u001b[0m\n"
     ]
    }
   ],
   "source": [
    "#checking\n",
    "x=Int8(10)\n",
    "y=Int8(120)\n",
    "z=Int8(-10)\n",
    "\n",
    "printlnbits(x)\n",
    "printlnbits(y)\n",
    "printlnbits(z)"
   ]
  },
  {
   "cell_type": "markdown",
   "metadata": {},
   "source": [
    "**Problem 2.2**\n",
    "\n",
    "$Int8(120)+Int(10)=(10000010)_2$"
   ]
  },
  {
   "cell_type": "code",
   "execution_count": 48,
   "metadata": {},
   "outputs": [
    {
     "name": "stdout",
     "output_type": "stream",
     "text": [
      "\u001b[31m0\u001b[0m\u001b[32m10000000101\u001b[0m\u001b[34m1110000000000000000000000000000000000000000000000000\u001b[0m"
     ]
    }
   ],
   "source": [
    "#checking\n",
    "printbits(x+y)"
   ]
  },
  {
   "cell_type": "markdown",
   "metadata": {},
   "source": [
    "**Problem 3.1 NOT COMPLETE**\n",
    "\n",
    "2 in 32-bit: 01000000000000000000000000000000\n",
    "\n",
    "31 in 32-bit: 01000001111110000000000000000000\n",
    "\n",
    "32 in 32-bit: 0100001000000000000000000000000\n",
    "\n",
    "23/4 in 32-bit: 01000000101110000000000000000000\n",
    "\n",
    "23/4*2^100 in 32-bit: 01110010101110000000000000000000\n",
    "\n"
   ]
  },
  {
   "cell_type": "code",
   "execution_count": 24,
   "metadata": {},
   "outputs": [
    {
     "name": "stdout",
     "output_type": "stream",
     "text": [
      "\u001b[31m0\u001b[0m\u001b[32m10000000\u001b[0m\u001b[34m00000000000000000000000\u001b[0m\n",
      "\u001b[31m0\u001b[0m\u001b[32m10000011\u001b[0m\u001b[34m11110000000000000000000\u001b[0m\n",
      "\u001b[31m0\u001b[0m\u001b[32m10000100\u001b[0m\u001b[34m00000000000000000000000\u001b[0m\n",
      "\u001b[31m0\u001b[0m\u001b[32m10000001\u001b[0m\u001b[34m01110000000000000000000\u001b[0m\n",
      "\u001b[31m0\u001b[0m\u001b[32m00000000\u001b[0m\u001b[34m00000000000000000000000\u001b[0m\n"
     ]
    }
   ],
   "source": [
    "#checking\n",
    "printlnbits(Float32(2))\n",
    "printlnbits(Float32(31))\n",
    "printlnbits(Float32(32))\n",
    "printlnbits(Float32(23/4))\n",
    "\n",
    "x = (23/4)*(2^100)\n",
    "printlnbits(Float32(x))"
   ]
  },
  {
   "cell_type": "markdown",
   "metadata": {},
   "source": [
    "### confused about 23/4*2^100"
   ]
  },
  {
   "cell_type": "markdown",
   "metadata": {},
   "source": [
    "**Problem 3.2 NOT COMPLETE**\n",
    "\n",
    "$m(2)-2=1$"
   ]
  },
  {
   "cell_type": "code",
   "execution_count": 47,
   "metadata": {},
   "outputs": [
    {
     "name": "stdout",
     "output_type": "stream",
     "text": [
      "\u001b[31m0\u001b[0m\u001b[32m01101001\u001b[0m\u001b[34m00000000000000000000000\u001b[0m\n",
      "\u001b[31m0\u001b[0m\u001b[32m10000000\u001b[0m\u001b[34m00000000000000000000001\u001b[0m\n",
      "\u001b[31m0\u001b[0m\u001b[32m10000000\u001b[0m\u001b[34m00000000000000000000000\u001b[0m\n"
     ]
    }
   ],
   "source": [
    "#checking\n",
    "printlnbits(nextfloat(Float32(2))+Float32(-2))\n",
    "printlnbits(nextfloat(Float32(2)))\n",
    "printlnbits(Float32(2))"
   ]
  },
  {
   "cell_type": "markdown",
   "metadata": {},
   "source": [
    "## ????????????????????????"
   ]
  },
  {
   "cell_type": "markdown",
   "metadata": {},
   "source": []
  }
 ],
 "metadata": {
  "kernelspec": {
   "display_name": "Julia 1.7.1",
   "language": "julia",
   "name": "julia-1.7"
  },
  "language_info": {
   "file_extension": ".jl",
   "mimetype": "application/julia",
   "name": "julia",
   "version": "1.7.1"
  }
 },
 "nbformat": 4,
 "nbformat_minor": 2
}
